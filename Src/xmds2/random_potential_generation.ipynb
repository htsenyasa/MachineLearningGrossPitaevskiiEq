{
 "cells": [
  {
   "cell_type": "markdown",
   "metadata": {},
   "source": [
    "# Random potential"
   ]
  },
  {
   "cell_type": "code",
   "execution_count": 1,
   "metadata": {
    "collapsed": true
   },
   "outputs": [],
   "source": [
    "import numpy as np\n",
    "import matplotlib.pyplot as plt\n",
    "%matplotlib inline"
   ]
  },
  {
   "cell_type": "code",
   "execution_count": 2,
   "metadata": {
    "collapsed": true
   },
   "outputs": [],
   "source": [
    "Np=128"
   ]
  },
  {
   "cell_type": "code",
   "execution_count": 21,
   "metadata": {},
   "outputs": [
    {
     "name": "stdout",
     "output_type": "stream",
     "text": [
      "0.0581484359833 0.0078125 0.015625\n"
     ]
    }
   ],
   "source": [
    "Vi=np.random.uniform(0,1,Np)\n",
    "\n",
    "k=np.fft.rfftfreq(Np)\n",
    "kc=.0125\n",
    "kc=np.random.uniform(1,10)*k[1]\n",
    "V0=3\n",
    "M=4\n",
    "Vk=V0*np.fft.rfft(Vi)\n",
    "Vx=np.fft.irfft(np.exp(-(k/kc)**M)*Vk)\n",
    "print(kc,k[1],k[2])"
   ]
  },
  {
   "cell_type": "code",
   "execution_count": 24,
   "metadata": {
    "collapsed": true
   },
   "outputs": [],
   "source": [
    "beta=0.5\n",
    "x=np.arange(Np)\n",
    "x1=Np//5\n",
    "f1=0.5*(1-np.tanh(beta*(x-x1)))\n",
    "x2=x[-1]-x1\n",
    "f2=0.5*(1+np.tanh(beta*(x-x2)))\n",
    "f12=1-f1-f2"
   ]
  },
  {
   "cell_type": "code",
   "execution_count": 30,
   "metadata": {},
   "outputs": [
    {
     "data": {
      "text/plain": [
       "[<matplotlib.lines.Line2D at 0x7fdf56764748>]"
      ]
     },
     "execution_count": 30,
     "metadata": {},
     "output_type": "execute_result"
    },
    {
     "data": {
      "image/png": "[encoded data removed]",
      "text/plain": [
       "<matplotlib.figure.Figure at 0x7fdf567cd7b8>"
      ]
     },
     "metadata": {},
     "output_type": "display_data"
    }
   ],
   "source": [
    "#plt.plot(Vi)\n",
    "#plt.plot(Vx)\n",
    "#plt.plot(f1)\n",
    "#plt.plot(f2)\n",
    "plt.plot(f12)\n",
    "#Vmax=2\n",
    "#plt.plot(Vmax*(f1+f2)+Vx*f12)\n",
    "#plt.plot(Vx*f12)"
   ]
  },
  {
   "cell_type": "code",
   "execution_count": null,
   "metadata": {
    "collapsed": true
   },
   "outputs": [],
   "source": []
  },
  {
   "cell_type": "code",
   "execution_count": null,
   "metadata": {
    "collapsed": true
   },
   "outputs": [],
   "source": []
  }
 ],
 "metadata": {
  "kernelspec": {
   "display_name": "Python 3",
   "language": "python",
   "name": "python3"
  },
  "language_info": {
   "codemirror_mode": {
    "name": "ipython",
    "version": 3
   },
   "file_extension": ".py",
   "mimetype": "text/x-python",
   "name": "python",
   "nbconvert_exporter": "python",
   "pygments_lexer": "ipython3",
   "version": "3.6.3"
  }
 },
 "nbformat": 4,
 "nbformat_minor": 2
}
