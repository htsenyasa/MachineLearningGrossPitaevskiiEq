{
 "cells": [
  {
   "cell_type": "code",
   "execution_count": 1,
   "metadata": {
    "collapsed": false
   },
   "outputs": [
    {
     "name": "stdout",
     "output_type": "stream",
     "text": [
      "Once deleted, variables cannot be recovered. Proceed (y/[n])? y\n"
     ]
    }
   ],
   "source": [
    "%reset\n",
    "import numpy as np\n",
    "%matplotlib inline\n",
    "import matplotlib\n",
    "import matplotlib.pyplot as plt \n",
    "\n",
    "import shlex, subprocess, time"
   ]
  },
  {
   "cell_type": "code",
   "execution_count": 2,
   "metadata": {
    "collapsed": false
   },
   "outputs": [
    {
     "name": "stdout",
     "output_type": "stream",
     "text": [
      "total 2716\r\n",
      "-rw-rw-r-- 1 subasi subasi    3523 Eyl 29 17:26 gp1d.xmds\r\n",
      "-rw-rw-r-- 1 subasi subasi   86397 Eyl 29 17:28 xgp1d.cc\r\n",
      "-rwxrwxr-x 1 subasi subasi 2453671 Eyl 29 17:28 xgp1d\r\n",
      "-rw-rw-r-- 1 subasi subasi   36268 Eyl 29 17:30 gp1d.ipynb\r\n",
      "-rw-rw-r-- 1 subasi subasi    4469 Eyl 29 17:32 gp1d.xsil\r\n",
      "-rw-rw-r-- 1 subasi subasi  177552 Eyl 29 17:32 gp1d.h5\r\n",
      "-rw-rw-r-- 1 subasi subasi    1120 Eyl 29 17:32 gp1d.py\r\n"
     ]
    }
   ],
   "source": [
    "!ls -lrt"
   ]
  },
  {
   "cell_type": "code",
   "execution_count": 3,
   "metadata": {
    "collapsed": false
   },
   "outputs": [
    {
     "name": "stdout",
     "output_type": "stream",
     "text": [
      "total 2716\r\n",
      "-rw-rw-r-- 1 subasi subasi    3523 Eyl 29 17:26 gp1d.xmds\r\n",
      "-rw-rw-r-- 1 subasi subasi   36268 Eyl 29 17:30 gp1d.ipynb\r\n",
      "-rw-rw-r-- 1 subasi subasi    4469 Eyl 29 17:32 gp1d.xsil\r\n",
      "-rw-rw-r-- 1 subasi subasi  177552 Eyl 29 17:32 gp1d.h5\r\n",
      "-rw-rw-r-- 1 subasi subasi    1120 Eyl 29 17:32 gp1d.py\r\n",
      "-rw-rw-r-- 1 subasi subasi   86397 Eyl 29 17:32 xgp1d.cc\r\n",
      "-rwxrwxr-x 1 subasi subasi 2453671 Eyl 29 17:32 xgp1d\r\n"
     ]
    }
   ],
   "source": [
    "start_time = time.time()\n",
    "cmdline  = 'xmds2 gp1d.xmds'\n",
    "args = shlex.split(cmdline)\n",
    "p=subprocess.Popen(args)\n",
    "p.wait()\n",
    "!ls -lrt"
   ]
  },
  {
   "cell_type": "code",
   "execution_count": 4,
   "metadata": {
    "collapsed": false
   },
   "outputs": [
    {
     "name": "stdout",
     "output_type": "stream",
     "text": [
      "--- 2.6450920105 seconds ---\n"
     ]
    }
   ],
   "source": [
    "cmdline  = './xgp1d'\n",
    "args = shlex.split(cmdline)\n",
    "p=subprocess.Popen(args)\n",
    "p.wait()\n",
    "print(\"--- %s seconds ---\" % (time.time() - start_time))"
   ]
  },
  {
   "cell_type": "code",
   "execution_count": 5,
   "metadata": {
    "collapsed": false
   },
   "outputs": [
    {
     "name": "stdout",
     "output_type": "stream",
     "text": [
      "gp1d.h5  gp1d.ipynb  gp1d.py  gp1d.xmds  gp1d.xsil  xgp1d  xgp1d.cc\r\n"
     ]
    }
   ],
   "source": [
    "start_time = time.time()\n",
    "cmdline  = 'xsil2graphics2 -p gp1d.xsil'\n",
    "args = shlex.split(cmdline)\n",
    "p=subprocess.Popen(args)\n",
    "p.wait()\n",
    "!ls"
   ]
  },
  {
   "cell_type": "code",
   "execution_count": 6,
   "metadata": {
    "collapsed": false
   },
   "outputs": [],
   "source": [
    "%run gp1d.py"
   ]
  },
  {
   "cell_type": "code",
   "execution_count": 10,
   "metadata": {
    "collapsed": false
   },
   "outputs": [
    {
     "data": {
      "text/plain": [
       "((26, 256), (256,), (26, 256), (26, 256), (26,))"
      ]
     },
     "execution_count": 10,
     "metadata": {},
     "output_type": "execute_result"
    }
   ],
   "source": [
    "np.shape(dens_1), np.shape(x_1), np.shape(phiI_1),np.shape(phiR_1), np.shape(norm_2)"
   ]
  },
  {
   "cell_type": "code",
   "execution_count": 15,
   "metadata": {
    "collapsed": false
   },
   "outputs": [
    {
     "data": {
      "text/plain": [
       "[<matplotlib.lines.Line2D at 0x7f593aba0e10>]"
      ]
     },
     "execution_count": 15,
     "metadata": {},
     "output_type": "execute_result"
    },
    {
     "data": {
      "image/png": "[encoded data removed]",
      "text/plain": [
       "<matplotlib.figure.Figure at 0x7f5940ee3cd0>"
      ]
     },
     "metadata": {},
     "output_type": "display_data"
    }
   ],
   "source": [
    "fig, ax = plt.subplots(1,3,figsize=(18,6))\n",
    "\n",
    "ax[0].plot(x_1,dens_1[-1,:],'b.-')\n",
    "\n",
    "ax[1].plot(x_1,phiR_1[-1,:],'b.-')\n",
    "ax[1].plot(x_1,phiI_1[-1,:],'g.-')\n",
    "\n",
    "ax[2].plot(norm_2[:],'ro-', label='norm')\n"
   ]
  },
  {
   "cell_type": "markdown",
   "metadata": {},
   "source": [
    "# http://cpc.cs.qub.ac.uk/summaries/AEDU_v1_0.html"
   ]
  },
  {
   "cell_type": "code",
   "execution_count": 17,
   "metadata": {
    "collapsed": false
   },
   "outputs": [
    {
     "data": {
      "text/plain": [
       "u'/home/subasi/MEGA/ders/fiz421e/huseyin_senyasa/APPL/Src/xmds2'"
      ]
     },
     "execution_count": 17,
     "metadata": {},
     "output_type": "execute_result"
    }
   ],
   "source": [
    "pwd"
   ]
  },
  {
   "cell_type": "code",
   "execution_count": 22,
   "metadata": {
    "collapsed": false
   },
   "outputs": [
    {
     "name": "stdout",
     "output_type": "stream",
     "text": [
      "total 2720\r\n",
      "-rw-rw-r-- 1 subasi subasi   86397 Eyl 29 17:32 xgp1d.cc\r\n",
      "-rwxrwxr-x 1 subasi subasi 2453671 Eyl 29 17:32 xgp1d\r\n",
      "-rw-rw-r-- 1 subasi subasi    4469 Eyl 29 17:32 gp1d.xsil\r\n",
      "-rw-rw-r-- 1 subasi subasi  177552 Eyl 29 17:32 gp1d.h5\r\n",
      "-rw-rw-r-- 1 subasi subasi    1120 Eyl 29 17:32 gp1d.py\r\n",
      "-rw-rw-r-- 1 subasi subasi    3491 Eyl 29 17:50 gp1d.xmds\r\n",
      "-rw-rw-r-- 1 subasi subasi   36877 Eyl 29 18:00 gp1d.ipynb\r\n"
     ]
    }
   ],
   "source": [
    "start_time = time.time()\n",
    "cmdline  = 'gfortran imagtime1d.F -o ximagtime1d'\n",
    "args = shlex.split(cmdline)\n",
    "p=subprocess.Popen(args,cwd=r'../adeu_v1_imagtime1d')\n",
    "p.wait()\n",
    "cmdline  = './ximagtime1d'\n",
    "args = shlex.split(cmdline)\n",
    "p=subprocess.Popen(args,cwd=r'../adeu_v1_imagtime1d')\n",
    "p.wait()\n",
    "!ls -lrt"
   ]
  },
  {
   "cell_type": "code",
   "execution_count": 34,
   "metadata": {
    "collapsed": false
   },
   "outputs": [
    {
     "data": {
      "text/plain": [
       "array([-10.    ,  -9.9975,  -9.995 , ...,   9.995 ,   9.9975,  10.    ])"
      ]
     },
     "execution_count": 34,
     "metadata": {},
     "output_type": "execute_result"
    }
   ],
   "source": [
    "f1=np.loadtxt('../adeu_v1_imagtime1d/fort.1')\n",
    "f2=np.loadtxt('../adeu_v1_imagtime1d/fort.2')\n",
    "f3=np.loadtxt('../adeu_v1_imagtime1d/fort.3')\n",
    "\n",
    "f1[:,0]"
   ]
  },
  {
   "cell_type": "code",
   "execution_count": 38,
   "metadata": {
    "collapsed": false
   },
   "outputs": [
    {
     "data": {
      "text/plain": [
       "[<matplotlib.lines.Line2D at 0x7f5939adcf90>]"
      ]
     },
     "execution_count": 38,
     "metadata": {},
     "output_type": "execute_result"
    },
    {
     "data": {
      "image/png": "[encoded data removed]",
      "text/plain": [
       "<matplotlib.figure.Figure at 0x7f5939c7f4d0>"
      ]
     },
     "metadata": {},
     "output_type": "display_data"
    }
   ],
   "source": [
    "fig, ax = plt.subplots(1,3,figsize=(18,6))\n",
    "\n",
    "ax[0].plot(f1[:,0],f1[:,1],'b.-', label=\"initial\")\n",
    "\n",
    "ax[1].plot(f2[:,0],f2[:,1],'b.-', label=\"test\")\n",
    "\n",
    "ax[2].plot(f3[:,0],f3[:,1],'b.-', label=\"final\")\n"
   ]
  },
  {
   "cell_type": "code",
   "execution_count": null,
   "metadata": {
    "collapsed": true
   },
   "outputs": [],
   "source": []
  }
 ],
 "metadata": {
  "kernelspec": {
   "display_name": "Python 2",
   "language": "python",
   "name": "python2"
  },
  "language_info": {
   "codemirror_mode": {
    "name": "ipython",
    "version": 2
   },
   "file_extension": ".py",
   "mimetype": "text/x-python",
   "name": "python",
   "nbconvert_exporter": "python",
   "pygments_lexer": "ipython2",
   "version": "2.7.6"
  }
 },
 "nbformat": 4,
 "nbformat_minor": 0
}
